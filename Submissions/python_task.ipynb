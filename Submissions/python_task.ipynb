{
 "cells": [
  {
   "cell_type": "markdown",
   "metadata": {},
   "source": [
    "# Task-1\n"
   ]
  },
  {
   "cell_type": "code",
   "execution_count": 2,
   "metadata": {},
   "outputs": [],
   "source": [
    "import pandas as pd\n",
    "import numpy as np"
   ]
  },
  {
   "cell_type": "code",
   "execution_count": 14,
   "metadata": {},
   "outputs": [
    {
     "data": {
      "text/html": [
       "<div>\n",
       "<style scoped>\n",
       "    .dataframe tbody tr th:only-of-type {\n",
       "        vertical-align: middle;\n",
       "    }\n",
       "\n",
       "    .dataframe tbody tr th {\n",
       "        vertical-align: top;\n",
       "    }\n",
       "\n",
       "    .dataframe thead th {\n",
       "        text-align: right;\n",
       "    }\n",
       "</style>\n",
       "<table border=\"1\" class=\"dataframe\">\n",
       "  <thead>\n",
       "    <tr style=\"text-align: right;\">\n",
       "      <th></th>\n",
       "      <th>id_1</th>\n",
       "      <th>id_2</th>\n",
       "      <th>route</th>\n",
       "      <th>moto</th>\n",
       "      <th>car</th>\n",
       "      <th>rv</th>\n",
       "      <th>bus</th>\n",
       "      <th>truck</th>\n",
       "    </tr>\n",
       "  </thead>\n",
       "  <tbody>\n",
       "    <tr>\n",
       "      <th>0</th>\n",
       "      <td>829</td>\n",
       "      <td>827</td>\n",
       "      <td>1</td>\n",
       "      <td>2.05</td>\n",
       "      <td>4.14</td>\n",
       "      <td>4.14</td>\n",
       "      <td>10.1</td>\n",
       "      <td>15.2</td>\n",
       "    </tr>\n",
       "    <tr>\n",
       "      <th>1</th>\n",
       "      <td>829</td>\n",
       "      <td>821</td>\n",
       "      <td>4</td>\n",
       "      <td>6.63</td>\n",
       "      <td>13.26</td>\n",
       "      <td>13.26</td>\n",
       "      <td>32.4</td>\n",
       "      <td>48.5</td>\n",
       "    </tr>\n",
       "    <tr>\n",
       "      <th>2</th>\n",
       "      <td>829</td>\n",
       "      <td>804</td>\n",
       "      <td>7</td>\n",
       "      <td>14.41</td>\n",
       "      <td>28.92</td>\n",
       "      <td>28.92</td>\n",
       "      <td>64.7</td>\n",
       "      <td>97.0</td>\n",
       "    </tr>\n",
       "    <tr>\n",
       "      <th>3</th>\n",
       "      <td>829</td>\n",
       "      <td>822</td>\n",
       "      <td>6</td>\n",
       "      <td>5.90</td>\n",
       "      <td>11.81</td>\n",
       "      <td>11.81</td>\n",
       "      <td>28.8</td>\n",
       "      <td>43.2</td>\n",
       "    </tr>\n",
       "    <tr>\n",
       "      <th>4</th>\n",
       "      <td>829</td>\n",
       "      <td>826</td>\n",
       "      <td>9</td>\n",
       "      <td>2.87</td>\n",
       "      <td>5.81</td>\n",
       "      <td>5.81</td>\n",
       "      <td>14.2</td>\n",
       "      <td>21.2</td>\n",
       "    </tr>\n",
       "  </tbody>\n",
       "</table>\n",
       "</div>"
      ],
      "text/plain": [
       "   id_1  id_2  route   moto    car     rv   bus  truck\n",
       "0   829   827      1   2.05   4.14   4.14  10.1   15.2\n",
       "1   829   821      4   6.63  13.26  13.26  32.4   48.5\n",
       "2   829   804      7  14.41  28.92  28.92  64.7   97.0\n",
       "3   829   822      6   5.90  11.81  11.81  28.8   43.2\n",
       "4   829   826      9   2.87   5.81   5.81  14.2   21.2"
      ]
     },
     "execution_count": 14,
     "metadata": {},
     "output_type": "execute_result"
    }
   ],
   "source": [
    "\n",
    "df = pd.read_csv(\"datasets\\dataset-1.csv\")\n",
    "df.head()"
   ]
  },
  {
   "cell_type": "code",
   "execution_count": 21,
   "metadata": {},
   "outputs": [
    {
     "name": "stdout",
     "output_type": "stream",
     "text": [
      "[2, 7, 12, 17, 25, 30, 54, 64, 70, 97, 144, 145, 149, 154, 160, 201, 206, 210, 215, 234, 235, 245, 250, 309, 314, 319, 322, 323, 334, 340]\n"
     ]
    }
   ],
   "source": [
    "import pandas as pd\n",
    "\n",
    "def get_bus_indexes(df) -> list:\n",
    "    \"\"\"\n",
    "    Returns the indexes where the 'bus' values are greater than twice the mean.\n",
    "\n",
    "    Args:\n",
    "        df (pandas.DataFrame)\n",
    "\n",
    "    Returns:\n",
    "        list: List of indexes where 'bus' values exceed twice the mean.\n",
    "    \"\"\"\n",
    "    # Calculate the mean of the 'bus' column\n",
    "    mean_bus = df['bus'].mean()\n",
    "\n",
    "    # Identify the indexes where 'bus' values are greater than twice the mean\n",
    "    bus_indexes = df[df['bus'] > 2 * mean_bus].index.tolist()\n",
    "\n",
    "    # Sort the indexes in ascending order\n",
    "    bus_indexes.sort()\n",
    "\n",
    "    return bus_indexes\n",
    "\n",
    "# Example usage:\n",
    "# Assuming 'df' is your DataFrame, you can call the function like this:\n",
    "indices = get_bus_indexes(df)\n",
    "print(indices)\n"
   ]
  }
 ],
 "metadata": {
  "kernelspec": {
   "display_name": "base",
   "language": "python",
   "name": "python3"
  },
  "language_info": {
   "codemirror_mode": {
    "name": "ipython",
    "version": 3
   },
   "file_extension": ".py",
   "mimetype": "text/x-python",
   "name": "python",
   "nbconvert_exporter": "python",
   "pygments_lexer": "ipython3",
   "version": "3.8.11"
  }
 },
 "nbformat": 4,
 "nbformat_minor": 2
}
