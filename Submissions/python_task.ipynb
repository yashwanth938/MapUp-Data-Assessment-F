{
 "cells": [
  {
   "cell_type": "markdown",
   "metadata": {},
   "source": [
    "# Task-1\n"
   ]
  },
  {
   "cell_type": "code",
   "execution_count": 2,
   "metadata": {},
   "outputs": [],
   "source": [
    "import pandas as pd\n",
    "import numpy as np"
   ]
  },
  {
   "cell_type": "code",
   "execution_count": 41,
   "metadata": {},
   "outputs": [
    {
     "data": {
      "text/html": [
       "<div>\n",
       "<style scoped>\n",
       "    .dataframe tbody tr th:only-of-type {\n",
       "        vertical-align: middle;\n",
       "    }\n",
       "\n",
       "    .dataframe tbody tr th {\n",
       "        vertical-align: top;\n",
       "    }\n",
       "\n",
       "    .dataframe thead th {\n",
       "        text-align: right;\n",
       "    }\n",
       "</style>\n",
       "<table border=\"1\" class=\"dataframe\">\n",
       "  <thead>\n",
       "    <tr style=\"text-align: right;\">\n",
       "      <th></th>\n",
       "      <th>id</th>\n",
       "      <th>name</th>\n",
       "      <th>id_2</th>\n",
       "      <th>startDay</th>\n",
       "      <th>startTime</th>\n",
       "      <th>endDay</th>\n",
       "      <th>endTime</th>\n",
       "      <th>able2Hov2</th>\n",
       "      <th>able2Hov3</th>\n",
       "      <th>able3Hov2</th>\n",
       "      <th>able3Hov3</th>\n",
       "      <th>able5Hov2</th>\n",
       "      <th>able5Hov3</th>\n",
       "      <th>able4Hov2</th>\n",
       "      <th>able4Hov3</th>\n",
       "    </tr>\n",
       "  </thead>\n",
       "  <tbody>\n",
       "    <tr>\n",
       "      <th>0</th>\n",
       "      <td>1040000</td>\n",
       "      <td>Montgomery</td>\n",
       "      <td>-1</td>\n",
       "      <td>Monday</td>\n",
       "      <td>05:00:00</td>\n",
       "      <td>Wednesday</td>\n",
       "      <td>10:00:00</td>\n",
       "      <td>3.0</td>\n",
       "      <td>3.0</td>\n",
       "      <td>-1.0</td>\n",
       "      <td>-1</td>\n",
       "      <td>3</td>\n",
       "      <td>3</td>\n",
       "      <td>3</td>\n",
       "      <td>3</td>\n",
       "    </tr>\n",
       "  </tbody>\n",
       "</table>\n",
       "</div>"
      ],
      "text/plain": [
       "        id        name  id_2 startDay startTime     endDay   endTime  \\\n",
       "0  1040000  Montgomery    -1   Monday  05:00:00  Wednesday  10:00:00   \n",
       "\n",
       "   able2Hov2  able2Hov3  able3Hov2  able3Hov3  able5Hov2  able5Hov3  \\\n",
       "0        3.0        3.0       -1.0         -1          3          3   \n",
       "\n",
       "   able4Hov2  able4Hov3  \n",
       "0          3          3  "
      ]
     },
     "execution_count": 41,
     "metadata": {},
     "output_type": "execute_result"
    }
   ],
   "source": [
    "\n",
    "df = pd.read_csv(\"datasets\\dataset-1.csv\")\n",
    "df2 = pd.read_csv(\"datasets\\dataset-2.csv\").dropna()\n",
    "df2.head(1)"
   ]
  },
  {
   "cell_type": "code",
   "execution_count": null,
   "metadata": {},
   "outputs": [],
   "source": [
    "import pandas as pd\n",
    "\n",
    "def time_check(df):\n",
    "  \n",
    "    df['start_time'] = pd.to_datetime(df['startDay'] + ' ' + df['startTime'])\n",
    "    df['end_time'] = pd.to_datetime(df['endDay'] + ' ' + df['endTime'])\n",
    "\n",
    "    \n",
    "    df['expected_end_time'] = df['start_time'].dt.date + pd.Timedelta(days=1) - pd.Timedelta(seconds=1)\n",
    "\n",
    "    grouped = df.groupby(['id', 'id_2'])\n",
    "\n",
    " \n",
    "    completeness_check = grouped.apply(lambda x: all(x['start_time'].min().time() == pd.Timestamp('00:00:00').time() and\n",
    "                                                      x['end_time'].max().time() == pd.Timestamp('23:59:59').time() and\n",
    "                                                      len(x['start_time']) == 7 and\n",
    "                                                      all(x['end_time'].dt.date == x['expected_end_time'])).values)\n",
    "\n",
    "    return completeness_check\n",
    "  \n",
    "print(time_check(df2))"
   ]
  },
  {
   "cell_type": "code",
   "execution_count": null,
   "metadata": {},
   "outputs": [],
   "source": [
    "df2['start_time'] = pd.to_datetime(df2['startDay'] + ' ' + df2['startTime'])\n",
    "df2['end_time'] = pd.to_datetime(df2['endDay'] + ' ' + df2['endTime'])\n"
   ]
  }
 ],
 "metadata": {
  "kernelspec": {
   "display_name": "base",
   "language": "python",
   "name": "python3"
  },
  "language_info": {
   "codemirror_mode": {
    "name": "ipython",
    "version": 3
   },
   "file_extension": ".py",
   "mimetype": "text/x-python",
   "name": "python",
   "nbconvert_exporter": "python",
   "pygments_lexer": "ipython3",
   "version": "3.8.11"
  }
 },
 "nbformat": 4,
 "nbformat_minor": 2
}
